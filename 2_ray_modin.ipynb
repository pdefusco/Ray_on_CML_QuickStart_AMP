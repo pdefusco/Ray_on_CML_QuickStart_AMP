{
 "cells": [
  {
   "cell_type": "code",
   "execution_count": 1,
   "id": "b016d02b-af87-4f3f-86a9-d2d971079d52",
   "metadata": {
    "tags": []
   },
   "outputs": [],
   "source": [
    "!pip install modin[all] --quiet"
   ]
  },
  {
   "cell_type": "code",
   "execution_count": 1,
   "id": "94f7b8d3-4937-40a2-8ac0-2f1d187889b2",
   "metadata": {
    "tags": []
   },
   "outputs": [],
   "source": [
    "import modin.pandas as pd\n",
    "import ray\n",
    "import os"
   ]
  },
  {
   "cell_type": "markdown",
   "id": "9e5c457d-0905-4c97-8154-bc2e8d708353",
   "metadata": {},
   "source": [
    "If you haven't run the ray_starter notebook, uncomment the following section to create your Ray cluster"
   ]
  },
  {
   "cell_type": "code",
   "execution_count": 2,
   "id": "365e33e7-f4e1-4633-8ac2-bbcf87ff494d",
   "metadata": {
    "tags": []
   },
   "outputs": [],
   "source": [
    "# import cmlextensions.ray_cluster as rc\n",
    "\n",
    "# num_workers=2\n",
    "# head_cpu=1\n",
    "# worker_cpu=1\n",
    "# head_memory=2\n",
    "# worker_memory=2\n",
    "# worker_nvidia_gpu=0\n",
    "# head_nvidia_gpu=0\n",
    "\n",
    "# cluster = rc.RayCluster(num_workers=num_workers, worker_cpu=worker_cpu, head_cpu=head_cpu, worker_memory=worker_memory, head_memory=head_memory)\n",
    "# cluster.init()"
   ]
  },
  {
   "cell_type": "code",
   "execution_count": 6,
   "id": "85e1ea99-1df1-4c70-9142-1b57e60f68d5",
   "metadata": {
    "tags": []
   },
   "outputs": [],
   "source": [
    "# If needed, replace the following address with the location of your Ray cluster\n",
    "\n",
    "ray.init(address=os.getenv('RAY_CLUSTER_ADDRESS'))\n",
    "df = pd.read_csv(\"utils/homes.csv\")"
   ]
  },
  {
   "cell_type": "markdown",
   "id": "0e3635c0-29fe-460d-8b84-623be8116ecb",
   "metadata": {},
   "source": [
    "NPartitions is the maximum number of splits along an axis, by default it is the number of cores"
   ]
  },
  {
   "cell_type": "code",
   "execution_count": 7,
   "id": "747af8bd-b329-4b3a-a3b7-3a81be7dc5a6",
   "metadata": {
    "tags": []
   },
   "outputs": [
    {
     "data": {
      "text/plain": [
       "8"
      ]
     },
     "execution_count": 7,
     "metadata": {},
     "output_type": "execute_result"
    }
   ],
   "source": [
    "from modin.config import NPartitions\n",
    "NPartitions.get()"
   ]
  },
  {
   "cell_type": "code",
   "execution_count": null,
   "id": "5c9969c6-253c-4401-afaf-598eaa88b270",
   "metadata": {},
   "outputs": [],
   "source": [
    "# ray.shutdown()"
   ]
  }
 ],
 "metadata": {
  "kernelspec": {
   "display_name": "Python 3 (ipykernel)",
   "language": "python",
   "name": "python3"
  },
  "language_info": {
   "codemirror_mode": {
    "name": "ipython",
    "version": 3
   },
   "file_extension": ".py",
   "mimetype": "text/x-python",
   "name": "python",
   "nbconvert_exporter": "python",
   "pygments_lexer": "ipython3",
   "version": "3.10.13"
  }
 },
 "nbformat": 4,
 "nbformat_minor": 5
}
