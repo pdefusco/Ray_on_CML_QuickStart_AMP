{
 "cells": [
  {
   "cell_type": "code",
   "execution_count": 1,
   "id": "37e765ca-62c5-4b32-a6e5-53149862b183",
   "metadata": {
    "tags": []
   },
   "outputs": [],
   "source": [
    "# !pip3 install https://$CDSW_DOMAIN/api/v2/python.tar.gz --quiet\n",
    "# !pip3 install scikit-learn --quiet"
   ]
  },
  {
   "cell_type": "markdown",
   "id": "c9ee95c6-021d-4f29-8314-2f250d9ef2ff",
   "metadata": {},
   "source": [
    "This builds and deploys the Pytorch model from the Ray Tune notebook in CML"
   ]
  },
  {
   "cell_type": "code",
   "execution_count": 7,
   "id": "0b8cf419-0868-4305-b6ae-095d5208a5a4",
   "metadata": {
    "tags": []
   },
   "outputs": [],
   "source": [
    "import cmlapi\n",
    "import os\n",
    "import json\n",
    "import time\n",
    "\n",
    "api_key = os.environ[\"CDSW_APIV2_KEY\"]\n",
    "client = cmlapi.default_client(url=\"https://\"+os.environ[\"CDSW_DOMAIN\"], cml_api_key=api_key)\n",
    "project = client.get_project(os.environ[\"CDSW_PROJECT_ID\"])"
   ]
  },
  {
   "cell_type": "code",
   "execution_count": 6,
   "id": "c127f1fc-7bd8-47e7-9516-0894832eb052",
   "metadata": {
    "tags": []
   },
   "outputs": [],
   "source": [
    "model_body = cmlapi.CreateModelRequest(project_id=project.id, name=\"Ray AMP Model\", description=\"Pytorch model\")\n",
    "model = client.create_model(model_body, project.id)"
   ]
  },
  {
   "cell_type": "code",
   "execution_count": 8,
   "id": "e72d9519-717e-47b1-b84e-a29fa3e7d5b3",
   "metadata": {
    "tags": []
   },
   "outputs": [],
   "source": [
    "model_build_body = cmlapi.CreateModelBuildRequest(project_id=project.id, model_id=model.id, file_path=\"utils/deploy.py\", function_name=\"predict\", kernel=\"python3\", runtime_identifier=\"docker.repository.cloudera.com/cloudera/cdsw/ml-runtime-jupyterlab-python3.10-standard:2023.12.1-b8\")\n",
    "model_build = client.create_model_build(model_build_body, project.id, model.id)"
   ]
  },
  {
   "cell_type": "code",
   "execution_count": 9,
   "id": "87c75a7a-805b-49c9-b4c9-9f736b78dfab",
   "metadata": {
    "tags": []
   },
   "outputs": [
    {
     "name": "stdout",
     "output_type": "stream",
     "text": [
      "waiting for model to build...\n",
      "waiting for model to build...\n",
      "waiting for model to build...\n",
      "waiting for model to build...\n",
      "waiting for model to build...\n",
      "waiting for model to build...\n",
      "waiting for model to build...\n",
      "waiting for model to build...\n",
      "waiting for model to build...\n",
      "waiting for model to build...\n",
      "waiting for model to build...\n",
      "waiting for model to build...\n",
      "waiting for model to build...\n",
      "waiting for model to build...\n",
      "waiting for model to build...\n",
      "waiting for model to build...\n",
      "waiting for model to build...\n",
      "waiting for model to build...\n",
      "waiting for model to build...\n",
      "waiting for model to build...\n",
      "waiting for model to build...\n",
      "waiting for model to build...\n",
      "waiting for model to build...\n",
      "waiting for model to build...\n",
      "waiting for model to build...\n",
      "waiting for model to build...\n",
      "waiting for model to build...\n",
      "waiting for model to build...\n",
      "waiting for model to build...\n",
      "waiting for model to build...\n",
      "waiting for model to build...\n",
      "waiting for model to build...\n",
      "waiting for model to build...\n",
      "waiting for model to build...\n",
      "waiting for model to build...\n",
      "waiting for model to build...\n",
      "waiting for model to build...\n",
      "waiting for model to build...\n",
      "waiting for model to build...\n",
      "waiting for model to build...\n",
      "waiting for model to build...\n",
      "waiting for model to build...\n",
      "waiting for model to build...\n",
      "waiting for model to build...\n",
      "waiting for model to build...\n",
      "waiting for model to build...\n",
      "waiting for model to build...\n",
      "waiting for model to build...\n",
      "waiting for model to build...\n",
      "waiting for model to build...\n",
      "waiting for model to build...\n",
      "waiting for model to build...\n",
      "waiting for model to build...\n",
      "waiting for model to build...\n",
      "waiting for model to build...\n",
      "waiting for model to build...\n",
      "waiting for model to build...\n",
      "waiting for model to build...\n",
      "waiting for model to build...\n",
      "waiting for model to build...\n",
      "waiting for model to build...\n",
      "waiting for model to build...\n",
      "waiting for model to build...\n",
      "waiting for model to build...\n",
      "model built successfully!\n"
     ]
    }
   ],
   "source": [
    "while model_build.status not in [\"built\", \"build failed\"]:\n",
    "    print(\"waiting for model to build...\")\n",
    "    time.sleep(15)\n",
    "    model_build = client.get_model_build(project.id, model.id, model_build.id)\n",
    "if model_build.status == \"build failed\":\n",
    "    print(\"model build failed, see UI for more information\")\n",
    "    sys.exit(1)\n",
    "print(\"model built successfully!\")"
   ]
  },
  {
   "cell_type": "code",
   "execution_count": 12,
   "id": "72433e3b-831f-4025-b644-4e4e89d3d5f2",
   "metadata": {
    "tags": []
   },
   "outputs": [
    {
     "name": "stdout",
     "output_type": "stream",
     "text": [
      "waiting for model to deploy...\n",
      "model deployed successfully!\n"
     ]
    }
   ],
   "source": [
    "model_deployment_body = cmlapi.CreateModelDeploymentRequest(project_id=project.id, model_id=model.id, build_id=model_build.id)\n",
    "model_deployment = client.create_model_deployment(model_deployment_body, project.id, model.id, model_build.id)\n",
    "while model_deployment.status not in [\"stopped\", \"failed\", \"deployed\"]:\n",
    "    print(\"waiting for model to deploy...\")\n",
    "    time.sleep(15)\n",
    "    model_deployment = client.get_model_deployment(project.id, model.id, model_build.id, model_deployment.id)\n",
    "if model_deployment.status != \"deployed\":\n",
    "    print(\"model deployment failed, see UI for more information\")\n",
    "    sys.exit(1)\n",
    "print(\"model deployed successfully!\")"
   ]
  },
  {
   "cell_type": "code",
   "execution_count": null,
   "id": "8320a7f9-6c14-496c-8127-9a8b32fe24ff",
   "metadata": {},
   "outputs": [],
   "source": []
  }
 ],
 "metadata": {
  "kernelspec": {
   "display_name": "Python 3 (ipykernel)",
   "language": "python",
   "name": "python3"
  },
  "language_info": {
   "codemirror_mode": {
    "name": "ipython",
    "version": 3
   },
   "file_extension": ".py",
   "mimetype": "text/x-python",
   "name": "python",
   "nbconvert_exporter": "python",
   "pygments_lexer": "ipython3",
   "version": "3.10.13"
  }
 },
 "nbformat": 4,
 "nbformat_minor": 5
}
